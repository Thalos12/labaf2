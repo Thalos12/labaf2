{
 "cells": [
  {
   "cell_type": "code",
   "execution_count": 1,
   "metadata": {},
   "outputs": [],
   "source": [
    "import numpy as np\n",
    "import scipy.interpolate as interp\n",
    "import matplotlib\n",
    "#matplotlib.use('NBAgg')\n",
    "#matplotlib.use('wxAgg')\n",
    "%matplotlib wx\n",
    "from matplotlib import pyplot as plt\n",
    "from cursor import Cursor"
   ]
  },
  {
   "cell_type": "markdown",
   "metadata": {},
   "source": [
    "# CARICAMENTO DEI DATI E SETUP INIZIALE"
   ]
  },
  {
   "cell_type": "code",
   "execution_count": 3,
   "metadata": {},
   "outputs": [
    {
     "name": "stdout",
     "output_type": "stream",
     "text": [
      "(9666L,)\n"
     ]
    }
   ],
   "source": [
    "datacolnames = ['x','y','v','sv','i','si','sel']\n",
    "data = np.genfromtxt('./NGC6121.cal.xym',\n",
    "                     skip_header=2,\n",
    "                     names=datacolnames)\n",
    "print data.shape"
   ]
  },
  {
   "cell_type": "code",
   "execution_count": 4,
   "metadata": {},
   "outputs": [
    {
     "name": "stdout",
     "output_type": "stream",
     "text": [
      "(8503L,)\n"
     ]
    }
   ],
   "source": [
    "# estraggo il vettore delle selezioni\n",
    "sel = np.asarray(data['sel'],dtype='int') == True\n",
    "# tengo solo le stelle \"buone\", estraggo mag in v ed i, quindi calcolo v-i\n",
    "data_good = data[:][sel]\n",
    "print data_good.shape"
   ]
  },
  {
   "cell_type": "code",
   "execution_count": 5,
   "metadata": {},
   "outputs": [],
   "source": [
    "# per comodità assegno le colonne rilevanti a variabili differenti e calcolo v-i con relativo errore\n",
    "v = data_good['v']\n",
    "sv = data_good['sv']\n",
    "i = data_good['i']\n",
    "si = data_good['si']\n",
    "v_i = v-i\n",
    "sv_i = np.sqrt(sv**2+si**2)"
   ]
  },
  {
   "cell_type": "code",
   "execution_count": 6,
   "metadata": {},
   "outputs": [],
   "source": [
    "# per comodità riordino subito gli array (rispetto a v)\n",
    "sort_v = np.argsort(v)\n",
    "v = v[sort_v]\n",
    "sv = sv[sort_v]\n",
    "i = i[sort_v]\n",
    "si = si[sort_v]\n",
    "v_i = v_i[sort_v]\n",
    "sv_i = sv_i[sort_v]\n",
    "sort_v_i = np.argsort(v_i) # serve in futuro per fare interpolazione"
   ]
  },
  {
   "cell_type": "code",
   "execution_count": 7,
   "metadata": {},
   "outputs": [],
   "source": [
    "# cella di test\n",
    "plt.figure()\n",
    "plt.plot(v_i,v,'.',markersize=2)\n",
    "plt.errorbar(v_i,v,xerr=sv_i,yerr=sv,fmt='none')\n",
    "plt.gca().invert_yaxis()\n",
    "plt.show()"
   ]
  },
  {
   "cell_type": "code",
   "execution_count": 8,
   "metadata": {},
   "outputs": [],
   "source": [
    "# cella di test\n",
    "f,axarr = plt.subplots(nrows=3,ncols=2)\n",
    "axarr[0,0].scatter(v,sv,s=2)\n",
    "axarr[0,0].set_title('v, sv')\n",
    "axarr[1,0].scatter(v,si,s=2)\n",
    "axarr[1,0].set_title('v, si')\n",
    "axarr[2,0].scatter(v,sv_i,s=2)\n",
    "axarr[2,0].set_title('v, sv_i')\n",
    "axarr[1,1].scatter(i,si,s=2)\n",
    "axarr[1,1].set_title('i, si')\n",
    "axarr[0,1].scatter(v_i,sv_i,s=2)\n",
    "axarr[0,1].set_title('v_i, sv_i')\n",
    "plt.show()"
   ]
  },
  {
   "cell_type": "code",
   "execution_count": 9,
   "metadata": {},
   "outputs": [
    {
     "name": "stderr",
     "output_type": "stream",
     "text": [
      "Traceback (most recent call last):\n",
      "  File \"C:\\Users\\aless\\Miniconda2\\lib\\site-packages\\matplotlib\\cbook\\__init__.py\", line 388, in process\n",
      "    proxy(*args, **kwargs)\n",
      "  File \"C:\\Users\\aless\\Miniconda2\\lib\\site-packages\\matplotlib\\cbook\\__init__.py\", line 228, in __call__\n",
      "    return mtd(*args, **kwargs)\n",
      "  File \"C:\\Users\\aless\\Miniconda2\\lib\\site-packages\\matplotlib\\backend_bases.py\", line 2805, in update_stack\n",
      "    nav_info = self._nav_stack()\n",
      "  File \"C:\\Users\\aless\\Miniconda2\\lib\\site-packages\\wx-3.0-msw\\wx\\_core.py\", line 16712, in __getattr__\n",
      "    raise PyDeadObjectError(self.attrStr % self._name)\n",
      "PyDeadObjectError: The C++ part of the NavigationToolbar2WxAgg object has been deleted, attribute access no longer allowed.\n"
     ]
    }
   ],
   "source": [
    "# cella di test\n",
    "plt.figure()\n",
    "plt.scatter(v,sv,s=1,alpha=0.2)\n",
    "plt.scatter(v,si,s=1,alpha=0.2)\n",
    "plt.scatter(v,sv_i,s=1,alpha=0.2)\n",
    "plt.show()"
   ]
  },
  {
   "cell_type": "markdown",
   "metadata": {},
   "source": [
    "### La cella che segue va lanciata ogni volta che la figura viene chiusa!\n",
    "Non è invece necessario lanciare tutte quelle che seguono, basta ritornare alle celle dei plot per visualizzarli sovrapposti al cmd."
   ]
  },
  {
   "cell_type": "code",
   "execution_count": 10,
   "metadata": {},
   "outputs": [],
   "source": [
    "# plotto il cmd\n",
    "plt.figure(figsize=(9,7))\n",
    "cmd_plot, = plt.plot(v_i,v,'k.',markersize=1,label='NGC6121',alpha=0.5)\n",
    "# ottengo figura e assi correnti\n",
    "fig = plt.gcf()\n",
    "ax = plt.gca()\n",
    "# limito gli intervalli in mag e colore\n",
    "ax.set_xlim([0.5,2.5])\n",
    "ax.set_ylim([12.0,21.0])\n",
    "# inverto l'asse y\n",
    "ax.invert_yaxis()\n",
    "# aggiungo le label agli assi ed aggiungo la legenda\n",
    "ax.set_xlabel('v-i',fontsize=14)\n",
    "ax.set_ylabel('v',fontsize=14)\n",
    "plt.legend(fontsize=13)\n",
    "# mostro il grafico\n",
    "plt.show()"
   ]
  },
  {
   "cell_type": "markdown",
   "metadata": {},
   "source": [
    "# 1) CERCO ETA' CON ISOCRONE"
   ]
  },
  {
   "cell_type": "markdown",
   "metadata": {},
   "source": [
    "### Seleziono le stelle nel MS, TO ed RGB\n",
    "**ATTENZIONE!!!!** Se sono già presenti i file con i limiti in colore al cmd si saltano le celle seguenti e li si caricano."
   ]
  },
  {
   "cell_type": "markdown",
   "metadata": {},
   "source": [
    "**Delimito il cmd interattivamente sul grafico.**"
   ]
  },
  {
   "cell_type": "code",
   "execution_count": 14,
   "metadata": {},
   "outputs": [
    {
     "name": "stdout",
     "output_type": "stream",
     "text": [
      "Limiti originari in x -> (0.12311500000000057, 2.8089849999999994)\n",
      "Limiti originari in y -> (21.336300000000001, 11.7531)\n",
      "Started.\n",
      "Add point at x=1.6120034  y=12.1130510\n",
      "Ritorno ai limiti originari in x.\n",
      "Ritorno ai limiti originari in y.\n",
      "\n",
      "Stopped.\n"
     ]
    }
   ],
   "source": [
    "# seleziono il limite sinistro di MS, TO e RGB\n",
    "left_limit = Cursor(fig,ax,color='c',zoom=[1.4,2.])\n",
    "left_limit.start()"
   ]
  },
  {
   "cell_type": "code",
   "execution_count": 15,
   "metadata": {
    "scrolled": true
   },
   "outputs": [
    {
     "name": "stdout",
     "output_type": "stream",
     "text": [
      "Limiti originari in x -> (0.12311500000000057, 2.8089849999999994)\n",
      "Limiti originari in y -> (21.336300000000001, 11.7531)\n",
      "Started.\n",
      "Add point at x=1.7331270  y=12.1009931\n",
      "Ritorno ai limiti originari in x.\n",
      "Ritorno ai limiti originari in y.\n",
      "\n",
      "Stopped.\n"
     ]
    }
   ],
   "source": [
    "# seleziono il limite destro di MS, TO e RGB\n",
    "right_limit = Cursor(fig,ax,color='c',zoom=[1.,2.])\n",
    "right_limit.start()"
   ]
  },
  {
   "cell_type": "code",
   "execution_count": 42,
   "metadata": {},
   "outputs": [
    {
     "name": "stderr",
     "output_type": "stream",
     "text": [
      "Traceback (most recent call last):\n",
      "  File \"C:\\Users\\aless\\Miniconda2\\lib\\site-packages\\matplotlib\\cbook\\__init__.py\", line 388, in process\n",
      "    proxy(*args, **kwargs)\n",
      "  File \"C:\\Users\\aless\\Miniconda2\\lib\\site-packages\\matplotlib\\cbook\\__init__.py\", line 228, in __call__\n",
      "    return mtd(*args, **kwargs)\n",
      "  File \"C:\\Users\\aless\\Miniconda2\\lib\\site-packages\\matplotlib\\backend_bases.py\", line 2805, in update_stack\n",
      "    nav_info = self._nav_stack()\n",
      "  File \"C:\\Users\\aless\\Miniconda2\\lib\\site-packages\\wx-3.0-msw\\wx\\_core.py\", line 16712, in __getattr__\n",
      "    raise PyDeadObjectError(self.attrStr % self._name)\n",
      "PyDeadObjectError: The C++ part of the NavigationToolbar2WxAgg object has been deleted, attribute access no longer allowed.\n"
     ]
    }
   ],
   "source": [
    "plt.ion()"
   ]
  },
  {
   "cell_type": "code",
   "execution_count": 16,
   "metadata": {},
   "outputs": [],
   "source": [
    "# estraggo tutti i punti destri e sinistri\n",
    "xl, yl = left_limit.get_x_y()\n",
    "xr, yr = right_limit.get_x_y()"
   ]
  },
  {
   "cell_type": "code",
   "execution_count": null,
   "metadata": {},
   "outputs": [],
   "source": [
    "# salvo i punti selezionati per usi futuri, anche in caso di riavvio del kernel\n",
    "# TOGLIERE I COMMENTI SOLO SE MOOOOLTO SICURI DI QUELLO CHE SI STA FACENDO\n",
    "#np.savetxt('cmd_selection_left.dat',np.column_stack((xl,yl)),header='xl \\t yl')\n",
    "#np.savetxt('cmd_selection_right.dat',np.column_stack((xr,yr)),header='xr \\t yr')"
   ]
  },
  {
   "cell_type": "code",
   "execution_count": 22,
   "metadata": {},
   "outputs": [],
   "source": [
    "# carico i punti selezionati SOLO SE SERVE\n",
    "l = np.genfromtxt('cmd_selection_left.dat',skip_header=1)\n",
    "xl = l[:,0]\n",
    "yl = l[:,1]\n",
    "r = np.genfromtxt('cmd_selection_right.dat',skip_header=1)\n",
    "xr = r[:,0]\n",
    "yr = r[:,1]"
   ]
  },
  {
   "cell_type": "code",
   "execution_count": null,
   "metadata": {},
   "outputs": [],
   "source": [
    "# plotto i punti SE NECESSARIO\n",
    "#plt.figure()\n",
    "left_bound, = plt.plot(xl,yl,'y.')\n",
    "right_bound, = plt.plot(xr,yr,'c.')\n",
    "#plt.gca().invert_yaxis()\n",
    "plt.show()"
   ]
  },
  {
   "cell_type": "code",
   "execution_count": null,
   "metadata": {},
   "outputs": [],
   "source": [
    "# rimuovo dal grafico i punti che delimitano il cmd SE PLOTTATI\n",
    "left_bound.remove()\n",
    "right_bound.remove()"
   ]
  },
  {
   "cell_type": "code",
   "execution_count": 23,
   "metadata": {
    "scrolled": true
   },
   "outputs": [],
   "source": [
    "# costruisco l'interpolatore con i punti ottenuti con il cursore\n",
    "interp_left = interp.interp1d(yl,xl,bounds_error=False,fill_value='extrapolate',kind='quadratic')\n",
    "interp_right = interp.interp1d(yr,xr,bounds_error=False,fill_value='extrapolate',kind='quadratic')\n",
    "# ottengo i valori interpolati su v\n",
    "v_i_left = interp_left(v)\n",
    "v_i_right = interp_right(v)"
   ]
  },
  {
   "cell_type": "code",
   "execution_count": null,
   "metadata": {
    "scrolled": true
   },
   "outputs": [],
   "source": [
    "# salvo i valori di v-i interpolati\n",
    "# TOGLIERE I COMMENTI SOLO SE MOOOOLTO SICURI DI QUELLO CHE SI STA FACENDO\n",
    "#\n",
    "#np.savetxt('cmd_bound.dat',np.column_stack((v_i_left,v_i_right)),header='left_boundary \\t right_boundary')"
   ]
  },
  {
   "cell_type": "markdown",
   "metadata": {},
   "source": [
    "**Carico i limiti al cmd se precedentemente salvati.**"
   ]
  },
  {
   "cell_type": "code",
   "execution_count": 11,
   "metadata": {},
   "outputs": [],
   "source": [
    "# carico i limiti al cmd\n",
    "bound = np.genfromtxt('cmd_bound.dat',skip_header=1)\n",
    "# definisco gli array appositi\n",
    "v_i_left = bound[:,0]\n",
    "v_i_right = bound[:,1]"
   ]
  },
  {
   "cell_type": "markdown",
   "metadata": {},
   "source": [
    "**Plotto i limiti al cmd.**"
   ]
  },
  {
   "cell_type": "code",
   "execution_count": 14,
   "metadata": {},
   "outputs": [],
   "source": [
    "# plotto i punti interpolati sui valori di v [limite destro e sinistro]\n",
    "#plt.figure()\n",
    "left_interp, = plt.plot(v_i_left,v,'r.',markersize=1)\n",
    "right_interp, = plt.plot(v_i_right,v,'r.',markersize=1)\n",
    "#plt.gca().invert_yaxis()\n",
    "plt.show()"
   ]
  },
  {
   "cell_type": "code",
   "execution_count": 15,
   "metadata": {},
   "outputs": [],
   "source": [
    "left_interp.remove()\n",
    "right_interp.remove()"
   ]
  },
  {
   "cell_type": "code",
   "execution_count": 16,
   "metadata": {},
   "outputs": [],
   "source": [
    "# seleziono tutti i punti entro il limite destro e sinistro\n",
    "cond_restrict = np.where((v_i>v_i_left) & (v_i<v_i_right))\n",
    "v_i_restricted = v_i[cond_restrict]\n",
    "v_restricted = v[cond_restrict]"
   ]
  },
  {
   "cell_type": "code",
   "execution_count": 19,
   "metadata": {},
   "outputs": [],
   "source": [
    "# plotto i punti interni ai limiti\n",
    "#plt.figure()\n",
    "cmd_restricted_plot, = plt.plot(v_i_restricted,v_restricted,'mo',markersize=4,alpha=0.2,label='points inside selection')\n",
    "plt.legend(fontsize=13)\n",
    "#plt.gca().invert_yaxis()\n",
    "plt.show()"
   ]
  },
  {
   "cell_type": "code",
   "execution_count": 20,
   "metadata": {},
   "outputs": [
    {
     "data": {
      "text/plain": [
       "<matplotlib.legend.Legend at 0xf76e630>"
      ]
     },
     "execution_count": 20,
     "metadata": {},
     "output_type": "execute_result"
    }
   ],
   "source": [
    "cmd_restricted_plot.remove()\n",
    "plt.legend()"
   ]
  },
  {
   "cell_type": "code",
   "execution_count": 21,
   "metadata": {},
   "outputs": [],
   "source": [
    "# ottengo i valori MEDI del cmd lungo MS, TO e RGB\n",
    "v_mean = []\n",
    "v_sigma = []\n",
    "\n",
    "v_i_mean = []\n",
    "v_i_sigma = []\n",
    "\n",
    "mag_bin = 0.1\n",
    "max_mag = 21\n",
    "min_mag = 12\n",
    "\n",
    "for mag in np.arange(min_mag, max_mag, mag_bin):\n",
    "    points_in_bin = np.where((v_restricted>mag) & (v_restricted<mag+mag_bin))\n",
    "    if points_in_bin[0].shape[0] <1:\n",
    "        continue\n",
    "    v_mean.append(np.mean(v_restricted[points_in_bin]))\n",
    "    v_sigma.append(np.std(v_restricted[points_in_bin]))\n",
    "    v_i_mean.append(np.mean(v_i_restricted[points_in_bin]))\n",
    "    v_i_sigma.append(np.std(v_i_restricted[points_in_bin]))\n",
    "\n",
    "v_mean = np.array(v_mean)\n",
    "v_sigma = np.array(v_sigma)\n",
    "\n",
    "v_i_mean = np.array(v_i_mean)\n",
    "v_i_sigma = np.array(v_i_sigma)"
   ]
  },
  {
   "cell_type": "code",
   "execution_count": 15,
   "metadata": {},
   "outputs": [],
   "source": [
    "# cella di test\n",
    "#plt.figure(); plt.plot(v_i,v,'.'); plt.gca().invert_yaxis(); plt.show()"
   ]
  },
  {
   "cell_type": "code",
   "execution_count": 22,
   "metadata": {},
   "outputs": [],
   "source": [
    "# interpolo gli errori per ottenerne i valori ai punti medi\n",
    "# creo gli interpolatori LINEARI per gli errori\n",
    "sv_interp = interp.interp1d(v,sv,bounds_error=False,fill_value='extrapolate',assume_sorted=True)\n",
    "sv_i_interp = interp.interp1d(v_i[sort_v_i],sv_i[sort_v_i],bounds_error=False,fill_value='extrapolate',assume_sorted=True)\n",
    "# ottengo il vettore di sort di v_i_mean\n",
    "sort_v_i_mean = np.argsort(v_i_mean)\n",
    "unsort_v_i_mean = np.argsort(sort_v_i_mean)\n",
    "# interpolo su \n",
    "v_err = sv_interp(v_mean)\n",
    "v_i_err = sv_i_interp(v_i_mean)"
   ]
  },
  {
   "cell_type": "code",
   "execution_count": 25,
   "metadata": {},
   "outputs": [],
   "source": [
    "# cella di test\n",
    "plt.figure()\n",
    "plt.plot(v_i[sort_v_i],sv_i[sort_v_i],'.')\n",
    "plt.plot(v_i_mean[sort_v_i_mean],v_i_err[sort_v_i_mean],'o')\n",
    "plt.show()"
   ]
  },
  {
   "cell_type": "code",
   "execution_count": 12,
   "metadata": {},
   "outputs": [
    {
     "name": "stdout",
     "output_type": "stream",
     "text": [
      "[ 12.1887  12.2789  12.4018  12.4713  12.5277  12.5748]\n",
      "[ 0.004   0.0034  0.003   0.011   0.0144  0.0024]\n",
      "[ 1.5207  1.6629  1.4813  1.6645  1.4408  1.6172]\n",
      "[ 0.01542757  0.02582479  0.02716616  0.01836001  0.01452481  0.0076844 ]\n"
     ]
    }
   ],
   "source": [
    "print v[:6]\n",
    "print sv[:6]\n",
    "print v_i[:6]\n",
    "print sv_i[:6]"
   ]
  },
  {
   "cell_type": "code",
   "execution_count": 26,
   "metadata": {},
   "outputs": [],
   "source": [
    "# cella di test -> errori su v\n",
    "plt.figure()\n",
    "plt.plot(v,sv,'-',label='originali')\n",
    "plt.plot(v_mean,v_err,'-',label='interpolati')\n",
    "plt.plot(v_mean,v_sigma,'-',label='sigma')\n",
    "plt.legend()\n",
    "plt.show()"
   ]
  },
  {
   "cell_type": "code",
   "execution_count": 27,
   "metadata": {},
   "outputs": [],
   "source": [
    "# cella di test -> errori su v-i\n",
    "plt.figure()\n",
    "plt.plot(v_i[sort_v_i],sv_i[sort_v_i],'-',label='originali')\n",
    "plt.plot(v_i_mean[sort_v_i_mean],v_i_err[sort_v_i_mean],'-',label='interpolati')\n",
    "plt.plot(v_i_mean[sort_v_i_mean],v_i_sigma[sort_v_i_mean],'-',label='sigma')\n",
    "plt.legend()\n",
    "plt.show()"
   ]
  },
  {
   "cell_type": "code",
   "execution_count": 28,
   "metadata": {
    "scrolled": true
   },
   "outputs": [],
   "source": [
    "# plotto i valori appena interpolati con errori inteprolati\n",
    "plt.figure(1)\n",
    "#plt.plot(v_i,v,'k.',alpha=0.2,zorder=1,markersize=1)\n",
    "plt.plot(v_i_mean,v_mean,'ro',markersize=3,label='cmd medio')\n",
    "plt.errorbar(v_i_mean,v_mean,xerr=v_i_err,yerr=v_err,barsabove=True,fmt='r',label='1$\\sigma$',zorder=6)\n",
    "#plt.fill_betweenx(v_mean,v_i_mean-3*v_i_err,v_i_mean+3*v_i_err,alpha=0.8,zorder=5,label='3$\\sigma$')\n",
    "#plt.gca().invert_yaxis()\n",
    "plt.legend()\n",
    "plt.show()"
   ]
  },
  {
   "cell_type": "markdown",
   "metadata": {},
   "source": [
    "### Confronto con isocrone a diverse età, ma stessi E(B-V) e mod_V"
   ]
  },
  {
   "cell_type": "code",
   "execution_count": 36,
   "metadata": {},
   "outputs": [],
   "source": [
    "# carico le isocrone\n",
    "isocolnames = ['v','i']\n",
    "iso1 = np.genfromtxt('./iso10.5.dat',\n",
    "                    skip_header=8,\n",
    "                    usecols=(7,9),\n",
    "                    names=isocolnames)\n",
    "iso2 = np.genfromtxt('./iso11.5.dat',\n",
    "                    skip_header=8,\n",
    "                    usecols=(7,9),\n",
    "                    names=isocolnames)\n",
    "iso3 = np.genfromtxt('./iso12.0.dat',\n",
    "                    skip_header=8,\n",
    "                    usecols=(7,9),\n",
    "                    names=isocolnames)\n",
    "iso4 = np.genfromtxt('./iso12.5.dat',\n",
    "                    skip_header=8,\n",
    "                    usecols=(7,9),\n",
    "                    names=isocolnames)"
   ]
  },
  {
   "cell_type": "code",
   "execution_count": 37,
   "metadata": {},
   "outputs": [
    {
     "name": "stdout",
     "output_type": "stream",
     "text": [
      "E(B-V) = 0.35\n",
      "mod_V = 12.8\n",
      "Av = 1.085\n",
      "Ai = 0.519715\n",
      "mod0 = 11.715\n"
     ]
    }
   ],
   "source": [
    "# porto le isocrone al piano osservativo\n",
    "ebv = (1)*0.35 # REDDENING DIFFERENZIALE!\n",
    "print \"E(B-V) =\", ebv\n",
    "modv = (1)*12.82\n",
    "print \"mod_V =\", modv\n",
    "Av = 3.1 * ebv\n",
    "print \"Av =\", Av\n",
    "Ai = 0.479 * Av\n",
    "print \"Ai =\", Ai\n",
    "mod0 = modv - Av\n",
    "print \"mod0 =\", mod0\n",
    "v1 = iso1['v'] + mod0 + Av\n",
    "i1 = iso1['i'] + mod0 + Ai\n",
    "v2 = iso2['v'] + mod0 + Av\n",
    "i2 = iso2['i'] + mod0 + Ai\n",
    "v3 = iso3['v'] + mod0 + Av\n",
    "i3 = iso3['i'] + mod0 + Ai\n",
    "v4 = iso4['v'] + mod0 + Av\n",
    "i4 = iso4['i'] + mod0 + Ai"
   ]
  },
  {
   "cell_type": "code",
   "execution_count": 38,
   "metadata": {},
   "outputs": [],
   "source": [
    "# limito le isocrone al range di interesse\n",
    "sel1 = np.where((v1>12) & (v1<21))\n",
    "v1good = v1[sel1]\n",
    "i1good = i1[sel1]\n",
    "sel2 = np.where((v2>12) & (v2<21))\n",
    "v2good = v2[sel2]\n",
    "i2good = i2[sel2]\n",
    "sel3 = np.where((v3>12) & (v3<21))\n",
    "v3good = v3[sel3]\n",
    "i3good = i3[sel3]\n",
    "sel4 = np.where((v4>12) & (v4<21))\n",
    "v4good = v4[sel4]\n",
    "i4good = i4[sel4]"
   ]
  },
  {
   "cell_type": "code",
   "execution_count": 40,
   "metadata": {},
   "outputs": [
    {
     "data": {
      "text/plain": [
       "<matplotlib.legend.Legend at 0x17bebda0>"
      ]
     },
     "execution_count": 40,
     "metadata": {},
     "output_type": "execute_result"
    }
   ],
   "source": [
    "# Questa cella permette di rimuovere TUTTE le isocrone plottate (usare solo dopo aver plottato le isocrone una prima volta)\n",
    "if 'iso_plot' in locals():\n",
    "    if len(iso_plot)>0:\n",
    "        for p in iso_plot:\n",
    "            p.remove()\n",
    "plt.legend()"
   ]
  },
  {
   "cell_type": "code",
   "execution_count": 39,
   "metadata": {},
   "outputs": [],
   "source": [
    "# plotto le isocrone\n",
    "iso_plot = []\n",
    "plt.figure(1)\n",
    "plt.title('CMD con isocrone [E(B-V)={}] [mod_V={}]'.format(ebv,modv))\n",
    "iso_plot.append(plt.plot(v1good-i1good,v1good,'r-',label='10.5Gyr')[0])\n",
    "iso_plot.append(plt.plot(v2good-i2good,v2good,'b-',label='11.5Gyr')[0])\n",
    "iso_plot.append(plt.plot(v3good-i3good,v3good,'g-',label='12.0Gyr')[0])\n",
    "iso_plot.append(plt.plot(v4good-i4good,v4good,'y-',label='12.5Gyr')[0])\n",
    "plt.legend()\n",
    "plt.show()\n",
    "# Se il grafico viene chiuso bisogna ripartire dalla cella del CMD"
   ]
  },
  {
   "cell_type": "code",
   "execution_count": null,
   "metadata": {},
   "outputs": [],
   "source": [
    "# uso interpolatori lineari per ottenere punti da confrontare al cmd mediato\n",
    "sort1 = np.argsort(v1good)\n",
    "interp1 = interp.interp1d(v1good[sort1],v1good[sort1]-i1good[sort1],bounds_error=False,fill_value='extrapolate')\n",
    "v_i_interp1 = interp1(v_mean)\n",
    "\n",
    "sort2 = np.argsort(v2good)\n",
    "interp2 = interp.interp1d(v2good[sort2],v2good[sort2]-i2good[sort2],bounds_error=False,fill_value='extrapolate')\n",
    "v_i_interp2 = interp2(v_mean)\n",
    "\n",
    "sort3 = np.argsort(v3good)\n",
    "interp3 = interp.interp1d(v3good[sort3],v3good[sort3]-i3good[sort3],bounds_error=False,fill_value='extrapolate')\n",
    "v_i_interp3 = interp3(v_mean)\n",
    "\n",
    "sort4 = np.argsort(v4good)\n",
    "interp4 = interp.interp1d(v4good[sort4],v4good[sort4]-i4good[sort4],bounds_error=False,fill_value='extrapolate')\n",
    "v_i_interp4 = interp4(v_mean)"
   ]
  },
  {
   "cell_type": "code",
   "execution_count": null,
   "metadata": {
    "scrolled": true
   },
   "outputs": [],
   "source": [
    "sigma1 = np.linalg.norm(v_i_interp1 - v_i_mean); print '10.5Gyr ->', sigma1\n",
    "sigma2 = np.linalg.norm(v_i_interp2 - v_i_mean); print '11.5Gyr ->', sigma2\n",
    "sigma3 = np.linalg.norm(v_i_interp3 - v_i_mean); print '12.0Gyr ->', sigma3\n",
    "sigma4 = np.linalg.norm(v_i_interp4 - v_i_mean); print '12.5Gyr ->', sigma4"
   ]
  },
  {
   "cell_type": "markdown",
   "metadata": {},
   "source": [
    "### Confronto con isocrona a diversi E(B_V) e diversi mod_V"
   ]
  },
  {
   "cell_type": "code",
   "execution_count": null,
   "metadata": {},
   "outputs": [],
   "source": [
    "ages = ['10.5','11.7','12.0','12.5']\n",
    "index = 0\n",
    "iso_name = 'iso'+ages[index]+'.dat'\n",
    "print \"Carico l'isocrona {}\".format(iso_name)\n",
    "isocolnames = ['v','i']\n",
    "iso = np.genfromtxt(iso_name,\n",
    "                    skip_header=8,\n",
    "                    usecols=(7,9),\n",
    "                    names=isocolnames)\n",
    "v_iso = iso['v']\n",
    "i_iso = iso['i']"
   ]
  },
  {
   "cell_type": "code",
   "execution_count": null,
   "metadata": {},
   "outputs": [],
   "source": [
    "# definisco E(B-V) e modV di riferimento\n",
    "ebv_ini = 0.35 # REDDENING DIFFERENZIALE\n",
    "modv_ini = 12.82"
   ]
  },
  {
   "cell_type": "code",
   "execution_count": null,
   "metadata": {},
   "outputs": [],
   "source": [
    "# vario E(B-V) del 10%\n",
    "# vario modV del 5%\n",
    "mult_ebv = np.linspace(-0.1 ,0.1, 3, endpoint=True) + 1\n",
    "ebv_arr = ebv_ini*mult_ebv\n",
    "mult_modv = np.linspace(-0.1, 0.1 ,3, endpoint=True) + 1\n",
    "modv_arr = modv_ini*mult_modv"
   ]
  },
  {
   "cell_type": "code",
   "execution_count": null,
   "metadata": {},
   "outputs": [],
   "source": [
    "# Questa cella permette di rimuovere TUTTE le isocrone plottate (usare solo dopo aver plottato le isocrone una prima volta)\n",
    "if 'iso_plot' in locals():\n",
    "    if len(iso_plot)>0:\n",
    "        #print iso_plot\n",
    "        for p in iso_plot:\n",
    "            try:\n",
    "                p.remove()\n",
    "            except:\n",
    "                print \"Impossibile rimuovere, elimino dalla lista.\"\n",
    "        iso_plot=[]\n",
    "plt.legend()"
   ]
  },
  {
   "cell_type": "code",
   "execution_count": null,
   "metadata": {},
   "outputs": [],
   "source": [
    "# GLI OCCHI MORIRANNO GUARDANDO LE VARIABILI IN QUESTA CELLA\n",
    "# tutto in una volta plotto le isocrone e ne calcolo lo scarto dalla madei del cmd\n",
    "plot_iso = True\n",
    "iso_plot = []\n",
    "print \"*** Age -> {}Gyr ***\".format(ages[index])\n",
    "for _modv in modv_arr:\n",
    "    for _ebv in ebv_arr:\n",
    "        _Av = 3.1 * _ebv\n",
    "        _Ai = 0.479 * _Av\n",
    "        _mod0 = _modv - _Av\n",
    "        _v = v_iso + _mod0 + _Av\n",
    "        _i = i_iso + _mod0 + _Ai\n",
    "        _v_i = _v - _i\n",
    "        if plot_iso:\n",
    "            _sel = ((_v>12) & (_v<21))\n",
    "            plt.title(\"CMD con andamento medio + isocrone {}Gyr ad E(B-V) e modV variabili\".format(ages[index]))\n",
    "            _plot, = plt.plot(_v[_sel]-_i[_sel], _v[_sel],'-',label=\"E(B-V)={:5.3f} modV={:5.3f}\".format(_ebv,_modv))\n",
    "            iso_plot.append(_plot)\n",
    "        _sort = np.argsort(_v)\n",
    "        _interp = interp.interp1d(_v[_sort],_v_i[_sort],bounds_error=False,fill_value='extrapolate')\n",
    "        _v_i_interp = _interp(v_mean)\n",
    "        _sigma = np.linalg.norm(_v_i_interp - v_i_mean)\n",
    "        print \"E(B-V)={:4.3f} + modV={:5.3f}  ==> sigma={}\".format(_ebv,_modv,_sigma)\n",
    "plt.legend()\n",
    "plt.show()"
   ]
  },
  {
   "cell_type": "markdown",
   "metadata": {},
   "source": [
    "# 2) METODO ORIZZONTALE"
   ]
  },
  {
   "cell_type": "markdown",
   "metadata": {},
   "source": [
    "** Cerco colore e magnitudine del TO. **"
   ]
  },
  {
   "cell_type": "code",
   "execution_count": 29,
   "metadata": {},
   "outputs": [
    {
     "name": "stdout",
     "output_type": "stream",
     "text": [
      "Colore del TO -> 1.1707 +/- 0.0093\n",
      "Magnitudine del TO -> 16.8513 +/- 0.0122\n"
     ]
    }
   ],
   "source": [
    "index_to = np.argmin(v_i_mean)\n",
    "col_to = v_i_mean[index_to]\n",
    "err_col_to = v_i_err[index_to]\n",
    "mag_to = v_mean[index_to]\n",
    "err_mag_to = v_err[index_to]\n",
    "print \"Colore del TO -> {:5.4f} +/- {:5.4f}\".format(col_to,err_col_to)\n",
    "print \"Magnitudine del TO -> {:5.4f} +/- {:5.4f}\".format(mag_to,err_mag_to)"
   ]
  },
  {
   "cell_type": "code",
   "execution_count": 30,
   "metadata": {},
   "outputs": [],
   "source": [
    "# plotto il TO\n",
    "plt.figure(1)\n",
    "to_plot, = plt.plot(col_to,mag_to,'mo',markersize=4,label='TO',zorder=9)\n",
    "to_err_plot = plt.errorbar(col_to,mag_to,xerr=err_col_to,yerr=err_mag_to,zorder=8,fmt='m')\n",
    "plt.legend()\n",
    "plt.show()"
   ]
  },
  {
   "cell_type": "code",
   "execution_count": 33,
   "metadata": {},
   "outputs": [],
   "source": [
    "to_plot.remove()\n",
    "to_err_plot.remove()"
   ]
  },
  {
   "cell_type": "markdown",
   "metadata": {},
   "source": [
    "** Cerco il punto dell'RGB a 2.5 mag sopra il TO. **"
   ]
  },
  {
   "cell_type": "code",
   "execution_count": 31,
   "metadata": {},
   "outputs": [
    {
     "name": "stdout",
     "output_type": "stream",
     "text": [
      "Colore RGB a 2.5 mag sopra TO -> 1.4447 +/- 0.0370\n",
      "Magnitudine RGB 2.mag sopra TO -> 14.3513 +/- 0.0171\n"
     ]
    }
   ],
   "source": [
    "mag_rgb = mag_to - 2.5\n",
    "err_mag_rgb = float(sv_interp(mag_rgb))\n",
    "col_rgb_interp = interp.interp1d(v_mean,v_i_mean,bounds_error=False,fill_value='extrapolate',kind='quadratic')\n",
    "col_rgb = float(col_rgb_interp(mag_rgb))\n",
    "err_col_rgb = float(sv_i_interp(col_rgb))\n",
    "print \"Colore RGB a 2.5 mag sopra TO -> {:5.4f} +/- {:5.4f}\".format(col_rgb,err_col_rgb)\n",
    "print \"Magnitudine RGB 2.mag sopra TO -> {:5.4f} +/- {:5.4f}\".format(mag_rgb,err_mag_rgb)"
   ]
  },
  {
   "cell_type": "code",
   "execution_count": 32,
   "metadata": {},
   "outputs": [],
   "source": [
    "# plotto il punto sull'RGB\n",
    "plt.figure(1)\n",
    "rgb_plot, = plt.plot(col_rgb,mag_rgb,'mo',markersize=4,label='TO',zorder=9)\n",
    "rgb_err_plot = plt.errorbar(col_rgb,mag_rgb,xerr=err_col_rgb,yerr=err_mag_rgb,zorder=8,fmt='m')\n",
    "plt.legend()\n",
    "plt.show()"
   ]
  },
  {
   "cell_type": "code",
   "execution_count": 34,
   "metadata": {},
   "outputs": [],
   "source": [
    "rgb_plot.remove()\n",
    "rgb_err_plot.remove()"
   ]
  },
  {
   "cell_type": "markdown",
   "metadata": {},
   "source": [
    "** Cerco di risalire all'età della relazione tra differenza di colore tra TO e RGB 2.5 mag sopra e metallicità. **"
   ]
  },
  {
   "cell_type": "code",
   "execution_count": 63,
   "metadata": {
    "scrolled": true
   },
   "outputs": [
    {
     "name": "stdout",
     "output_type": "stream",
     "text": [
      "D_orizz = 0.2740 +/- 0.0382 (13.9%)\n"
     ]
    }
   ],
   "source": [
    "# calcolo la differenza di colore tra TO e punto sull'RGB\n",
    "delta_col = col_rgb - col_to\n",
    "err_delta_col = np.sqrt(err_col_rgb**2+err_col_to**2)\n",
    "print 'D_orizz = {:5.4f} +/- {:5.4f} ({:3.1f}%)'.format(delta_col,err_delta_col,err_delta_col/delta_col*100)"
   ]
  },
  {
   "cell_type": "code",
   "execution_count": 52,
   "metadata": {},
   "outputs": [],
   "source": [
    "# definisco la funzione che userò per generare il grafico\n",
    "# uso V99\n",
    "def delta_col_v99(t_Gyr, fe_h):\n",
    "    \"\"\"\n",
    "    Modello per il metodo orizzontale.\n",
    "    t \\t -> deve essere uno scalare, in Gyr\n",
    "    fe_h \\t -> deve essere un array\n",
    "    \"\"\"\n",
    "    a = 0.828002\n",
    "    b = -0.165156\n",
    "    c = -0.812187\n",
    "    d = 0.191788\n",
    "    e = 0.589075\n",
    "    f = 0.611913\n",
    "    g = 0.021023\n",
    "    h = -0.223764\n",
    "    i = -0.077650\n",
    "    j = -0.312448\n",
    "    logt = np.log10(t_Gyr)\n",
    "    return a + b*fe_h + c*logt + d*fe_h**2 + e*logt**2 + f*fe_h*logt + g*fe_h**3 + h*logt**3 + i*(fe_h**2)*logt + j*fe_h*logt**2"
   ]
  },
  {
   "cell_type": "code",
   "execution_count": 53,
   "metadata": {},
   "outputs": [],
   "source": [
    "# definisco la funzione che userò per generare il grafico\n",
    "# uso V99\n",
    "def delta_col_SCL97(t_Gyr, fe_h):\n",
    "    \"\"\"\n",
    "    Modello per il metodo orizzontale.\n",
    "    t \\t -> deve essere uno scalare, in Gyr\n",
    "    fe_h \\t -> deve essere un array\n",
    "    \"\"\"\n",
    "    a = 0.930417\n",
    "    b = -0.356030\n",
    "    c = -1.472910\n",
    "    d = 0.186956\n",
    "    e = 1.491670\n",
    "    f = 0.970103\n",
    "    g = 0.020722\n",
    "    h = -0.590396\n",
    "    i = -0.077396\n",
    "    j = -0.477246\n",
    "    logt = np.log10(t_Gyr)\n",
    "    return a + b*fe_h + c*logt + d*fe_h**2 + e*logt**2 + f*fe_h*logt + g*fe_h**3 + h*logt**3 + i*(fe_h**2)*logt + j*fe_h*logt**2"
   ]
  },
  {
   "cell_type": "code",
   "execution_count": 62,
   "metadata": {},
   "outputs": [],
   "source": [
    "# produco il grafico\n",
    "# metallicità dell'ammasso\n",
    "fe_h0 = -1.16\n",
    "# variabile utile per il plot\n",
    "label_x = -2.0\n",
    "# intervallo di metallicità\n",
    "fe_h = np.linspace(-2.5,-0.2,50)\n",
    "# intervallo di età in Gyr !!!\n",
    "#ages = np.linspace(14,19,10)\n",
    "#ages = [0.1,0.2,0.5,1,2,4,10]\n",
    "#ages = [14.8]\n",
    "ages = np.arange(10.0,25.0,1.0)\n",
    "\n",
    "plt.figure(figsize=(9,7))\n",
    "for age in ages:\n",
    "    #print \"Age: \", t\n",
    "    y = delta_col_SCL97(age,fe_h)\n",
    "    plt.plot(fe_h,y,'k-')#,label='{:4.2f}Gyr'.format(age))\n",
    "    _interp = interp.interp1d(fe_h,y)\n",
    "    label_y = _interp(label_x)\n",
    "    plt.text(label_x,label_y,'{:4.2f}Gyr'.format(age),bbox=dict(facecolor='white',alpha=0.5, boxstyle='square,pad=0.1'),clip_on=True)\n",
    "plt.plot(fe_h0,delta,'o')\n",
    "plt.errorbar(fe_h0,delta_col,yerr=err_delta_col)\n",
    "plt.xlim([-2.2,-0.3])\n",
    "plt.ylim([0.24,0.38])\n",
    "#plt.legend()\n",
    "plt.show()"
   ]
  },
  {
   "cell_type": "code",
   "execution_count": 69,
   "metadata": {},
   "outputs": [
    {
     "data": {
      "text/plain": [
       "0.28361699357343961"
      ]
     },
     "execution_count": 69,
     "metadata": {},
     "output_type": "execute_result"
    }
   ],
   "source": [
    "delta_v99(14.8,-0.6)"
   ]
  },
  {
   "cell_type": "markdown",
   "metadata": {},
   "source": [
    "# 3) METODO VERTICALE"
   ]
  },
  {
   "cell_type": "markdown",
   "metadata": {},
   "source": [
    "**Seleziono l'HB.** (Va fatto una sola volta per creare il file con mag e col dei punti dell'HB)"
   ]
  },
  {
   "cell_type": "code",
   "execution_count": 41,
   "metadata": {},
   "outputs": [
    {
     "name": "stdout",
     "output_type": "stream",
     "text": [
      "Started.\n",
      "Add point at x=1.2211470  y=13.8367347\n",
      "\n",
      "Stopped.\n"
     ]
    }
   ],
   "source": [
    "# definisco ed uso un cursore per selezionare l'HB\n",
    "# AGGIUNGERE QUATTRO PUNTI NELL'ORDINE: SINISTRA -> SOPRA -> DESTRA -> SOTTO\n",
    "square = Cursor(fig,ax,'r')\n",
    "square.start()"
   ]
  },
  {
   "cell_type": "code",
   "execution_count": 46,
   "metadata": {},
   "outputs": [],
   "source": [
    "x,y = square.get_x_y()\n",
    "cond = np.where((v_i>x[0]) & (v_i<x[2]) & (v>y[1]) & (v<y[3]))\n",
    "hb_v = v[cond]\n",
    "hb_sv = sv[cond]\n",
    "hb_v_i = v_i[cond]\n",
    "hb_sv_i = sv_i[cond]"
   ]
  },
  {
   "cell_type": "code",
   "execution_count": 57,
   "metadata": {},
   "outputs": [],
   "source": [
    "# salvo mag e col dei punti sull'HB\n",
    "np.savetxt('HB.dat', np.column_stack((hb_v, hb_sv, hb_v_i, hb_sv_i)),header='v \\t sv \\t v_i \\t sv_i')"
   ]
  },
  {
   "cell_type": "markdown",
   "metadata": {},
   "source": [
    "**Carico l'HB da file.**"
   ]
  },
  {
   "cell_type": "code",
   "execution_count": null,
   "metadata": {},
   "outputs": [],
   "source": [
    "HB = np.genfromtxt('HB.dat')\n",
    "hb_v = HB[:,0]\n",
    "hb_sv = HB[:,1]\n",
    "hb_v_i = HB[:,2]\n",
    "hb_sv_i = HB[:,3]"
   ]
  },
  {
   "cell_type": "code",
   "execution_count": 72,
   "metadata": {},
   "outputs": [],
   "source": [
    "# cella di test\n",
    "fig, axarr = plt.subplots(2)\n",
    "axarr[0].plot(hb_v,hb_sv)\n",
    "sort_hb_v_i = np.argsort(hb_v_i)\n",
    "axarr[1].plot(hb_v_i[sort_hb_v_i],hb_sv_i[sort_hb_v_i])\n",
    "plt.show()"
   ]
  },
  {
   "cell_type": "code",
   "execution_count": 51,
   "metadata": {},
   "outputs": [],
   "source": [
    "# cella di test\n",
    "plt.figure()\n",
    "plt.plot(hb_v_i,hb_v,'m.',markersize=5,alpha=0.5)\n",
    "plt.gca().invert_yaxis()\n",
    "plt.show()"
   ]
  },
  {
   "cell_type": "code",
   "execution_count": 60,
   "metadata": {
    "scrolled": true
   },
   "outputs": [
    {
     "name": "stdout",
     "output_type": "stream",
     "text": [
      "Magnitudine dell'HB: 13.4627411765 +/- 0.012075068173\n",
      "Colore dell'HB: 1.20707058824 +/- 0.0239337602627\n"
     ]
    }
   ],
   "source": [
    "# cerco la mag dell'HB\n",
    "mag_hb = np.mean(hb_v)\n",
    "sigma_mag_hb = np.std(hb_v)\n",
    "err_mag_hb = sv_interp(mag_hb)\n",
    "\n",
    "col_hb = np.mean(hb_v_i)\n",
    "sigma_col_hb = np.std(hb_v_i)\n",
    "err_col_hb = sv_i_interp(col_hb)\n",
    "\n",
    "print \"Magnitudine dell'HB: {} +/- {}\".format(mag_hb,err_mag_hb)\n",
    "print \"Colore dell'HB: {} +/- {}\".format(col_hb,err_col_hb)"
   ]
  },
  {
   "cell_type": "code",
   "execution_count": 73,
   "metadata": {},
   "outputs": [
    {
     "name": "stdout",
     "output_type": "stream",
     "text": [
      "0.012075068173\n",
      "0.00508820831085\n"
     ]
    }
   ],
   "source": [
    "# cella di test\n",
    "print err_mag_hb\n",
    "err_mag_hb_interp = interp.interp1d(hb_v,hb_sv)\n",
    "print err_mag_hb_interp(mag_hb)"
   ]
  },
  {
   "cell_type": "markdown",
   "metadata": {},
   "source": [
    "**Cerco di risalire all'età usando la differenza di mag tra TO e HB.**"
   ]
  },
  {
   "cell_type": "code",
   "execution_count": 64,
   "metadata": {
    "scrolled": true
   },
   "outputs": [
    {
     "name": "stdout",
     "output_type": "stream",
     "text": [
      "D_vert = 3.3886 +/- 0.0172 (0.5%)\n"
     ]
    }
   ],
   "source": [
    "delta_mag = mag_to - mag_hb\n",
    "err_delta_mag = np.sqrt(err_mag_to**2+err_mag_hb**2)\n",
    "print 'D_vert = {:5.4f} +/- {:5.4f} ({:3.1f}%)'.format(delta_mag,err_delta_mag,err_delta_mag/delta_mag*100)"
   ]
  },
  {
   "cell_type": "code",
   "execution_count": 65,
   "metadata": {},
   "outputs": [],
   "source": [
    "# definisco la funzione che userò per generare il grafico\n",
    "# uso V99\n",
    "def magTO_V_v99(t_Gyr, fe_h):\n",
    "    \"\"\"\n",
    "    Modello per il metodo orizzontale.\n",
    "    t \\t -> deve essere uno scalare, in Gyr\n",
    "    fe_h \\t -> deve essere un array\n",
    "    \"\"\"\n",
    "    a = 1.599700\n",
    "    b = 0.825196\n",
    "    c = 3.801050\n",
    "    d = -0.278009\n",
    "    e = -1.428870\n",
    "    f = -1.153670\n",
    "    g = -0.074459\n",
    "    h = 0.339905\n",
    "    i = -0.007749\n",
    "    j = 0.390382\n",
    "    logt = np.log10(t_Gyr)\n",
    "    return a + b*fe_h + c*logt + d*fe_h**2 + e*logt**2 + f*fe_h*logt + g*fe_h**3 + h*logt**3 + i*(fe_h**2)*logt + j*fe_h*logt**2"
   ]
  },
  {
   "cell_type": "code",
   "execution_count": 71,
   "metadata": {},
   "outputs": [],
   "source": [
    "# produco il grafico\n",
    "# metallicità dell'ammasso\n",
    "fe_h0 = -1.16\n",
    "# variabile utile per il plot\n",
    "label_x = -2.0\n",
    "# intervallo di metallicità\n",
    "fe_h = np.linspace(-2.5,-0.2,50)\n",
    "# intervallo di età in Gyr !!!\n",
    "#ages = np.linspace(14,19,10)\n",
    "#ages = [0.1,0.2,0.5,1,2,4,10]\n",
    "#ages = [14.8]\n",
    "ages = np.arange(10.0,25.0,1.0)\n",
    "# calcolo la mag dello ZAHB\n",
    "mag_zahb_v = 0.18*(fe_h0+1.5) + 0.71\n",
    "\n",
    "plt.figure(figsize=(9,7))\n",
    "for age in ages:\n",
    "    #print \"Age: \", t\n",
    "    y = magTO_V_v99(age,fe_h) - mag_zahb_v\n",
    "    plt.plot(fe_h,y,'k-')#,label='{:4.2f}Gyr'.format(age))\n",
    "    _interp = interp.interp1d(fe_h,y)\n",
    "    label_y = _interp(label_x)\n",
    "    plt.text(label_x,label_y,'{:4.2f}Gyr'.format(age),bbox=dict(facecolor='white',alpha=0.5, boxstyle='square,pad=0.1'),clip_on=True)\n",
    "plt.plot(fe_h0,delta_mag,'o')\n",
    "plt.errorbar(fe_h0,delta_mag,yerr=err_delta_mag)\n",
    "plt.xlim([-2.2,-0.3])\n",
    "plt.ylim([3.0,3.8])\n",
    "plt.gca().invert_yaxis()\n",
    "#plt.legend()\n",
    "plt.show()"
   ]
  },
  {
   "cell_type": "code",
   "execution_count": 70,
   "metadata": {},
   "outputs": [
    {
     "data": {
      "text/plain": [
       "4.4219671504634714"
      ]
     },
     "execution_count": 70,
     "metadata": {},
     "output_type": "execute_result"
    }
   ],
   "source": [
    "magTO_V_v99(12.9,-0.6)"
   ]
  },
  {
   "cell_type": "markdown",
   "metadata": {},
   "source": [
    "# NOTE\n",
    "Considerato che:\n",
    "- sembra funzionare meglio l'interpolante lineare per interpolare il cmd.\n",
    "- sembra funzionare meglio l'interpolazione sui valori medi di quella sui valori mediani\n",
    "\n",
    "concluderei che **usiamo l'interpolante lineare applicata ai valori medi**.\n",
    "\n",
    "Per il **metodo orizzontale** il risultato con V99 è piuttosto sballato. Il risultato con SCL97 sembra migliore.\n"
   ]
  },
  {
   "cell_type": "markdown",
   "metadata": {},
   "source": [
    "# TEST"
   ]
  },
  {
   "cell_type": "code",
   "execution_count": null,
   "metadata": {},
   "outputs": [],
   "source": [
    "plt.legend()"
   ]
  },
  {
   "cell_type": "code",
   "execution_count": null,
   "metadata": {},
   "outputs": [],
   "source": []
  }
 ],
 "metadata": {
  "kernelspec": {
   "display_name": "Python 2",
   "language": "python",
   "name": "python2"
  },
  "language_info": {
   "codemirror_mode": {
    "name": "ipython",
    "version": 2
   },
   "file_extension": ".py",
   "mimetype": "text/x-python",
   "name": "python",
   "nbconvert_exporter": "python",
   "pygments_lexer": "ipython2",
   "version": "2.7.14"
  }
 },
 "nbformat": 4,
 "nbformat_minor": 2
}
